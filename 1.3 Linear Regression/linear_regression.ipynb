{
 "cells": [
  {
   "cell_type": "markdown",
   "metadata": {},
   "source": [
    "# 1.3 Linear Regression\n",
    "\n",
    "<a target=\"_blank\" href=\"https://colab.research.google.com/github/SaajanM/mat422-homework/blob/main/1.3%20Linear%20Regression/linear_regression.ipynb\"><img src=\"https://colab.research.google.com/assets/colab-badge.svg\" alt=\"Open In Colab\"/></a>\n",
    "\n",
    "---"
   ]
  },
  {
   "cell_type": "code",
   "execution_count": null,
   "metadata": {},
   "outputs": [],
   "source": [
    "# Install a numpy package in the current Jupyter kernel\n",
    "import sys\n",
    "!{sys.executable} -m pip install numpy\n",
    "!{sys.executable} -m pip install matplotlib"
   ]
  },
  {
   "cell_type": "code",
   "execution_count": 3,
   "metadata": {},
   "outputs": [],
   "source": [
    "# Import the numpy package\n",
    "import numpy as np\n",
    "import matplotlib\n",
    "import matplotlib.pyplot as pyplt\n",
    "from mpl_toolkits.mplot3d import Axes3D\n",
    "import math"
   ]
  },
  {
   "cell_type": "markdown",
   "metadata": {},
   "source": [
    "$\\newcommand\\norm[1]{\\left\\lVert#1\\right\\rVert}$"
   ]
  },
  {
   "cell_type": "markdown",
   "metadata": {},
   "source": [
    "This section covers the basics of linear regression"
   ]
  },
  {
   "cell_type": "markdown",
   "metadata": {},
   "source": [
    "## Section 1.3.0 Linear Regression Intro\n",
    "\n",
    "One of the most fundamental tools in a data scientists toolkit is linear regression. It is a remarkably simple method used to linearly approximate correlated data sets. Although it does not work for all data sets, it gives an intuitive starting point for more advanced forms of regression.\n",
    "\n",
    "## Section 1.3.1 QR Decomposition\n",
    "\n",
    "QR Decomposition is a useful procedure to solve the linear least squares problem. To obtain a QR Decomposition of a matrix $A$ with linearly independent columns, we first treat $A$'s columns as the input to Gram-Schmidt. We obtain a new matrix $Q$, where the columns of $Q$ correspond to the orthonormal basis vectors comprising of the algorithms output. Additional output of the algorithm is the upper triangular matrix $R$ that contains the coefficients for the each column of $A$ to be represented by a linear combination of the columns of $Q$.\n",
    "\n",
    "This yields the decomposition $$A=QR$$\n",
    "\n",
    "As the Gram Schmidt algorithm was already implemented in [homework 1.2](../1.2%20Elements%20of%20Linear%20Algebra/elements_of_linear_algebra.ipynb), we shall instead use the built in ability of `numpy` to accomplish the QR decomposition."
   ]
  },
  {
   "cell_type": "code",
   "execution_count": 22,
   "metadata": {},
   "outputs": [
    {
     "name": "stdout",
     "output_type": "stream",
     "text": [
      "A:\n",
      "[[ 1 -1  4]\n",
      " [ 1  4 -2]\n",
      " [ 1  4  2]\n",
      " [ 1 -1  0]]\n",
      "Q:\n",
      "[[-0.5  0.5 -0.5]\n",
      " [-0.5 -0.5  0.5]\n",
      " [-0.5 -0.5 -0.5]\n",
      " [-0.5  0.5  0.5]]\n",
      "R:\n",
      "[[-2. -3. -2.]\n",
      " [ 0. -5.  2.]\n",
      " [ 0.  0. -4.]]\n",
      "QR:\n",
      "[[ 1.0000000e+00 -1.0000000e+00  4.0000000e+00]\n",
      " [ 1.0000000e+00  4.0000000e+00 -2.0000000e+00]\n",
      " [ 1.0000000e+00  4.0000000e+00  2.0000000e+00]\n",
      " [ 1.0000000e+00 -1.0000000e+00 -4.4408921e-16]]\n",
      "Approximately A within floating point tolerance?: True\n"
     ]
    }
   ],
   "source": [
    "A = np.array([[1, -1, 4], [1, 4, -2], [1, 4, 2], [1, -1, 0]])\n",
    "print(\"A:\\n{}\".format(A))\n",
    "qr = np.linalg.qr(A)\n",
    "print(\"Q:\\n{}\".format(qr.Q))\n",
    "print(\"R:\\n{}\".format(qr.R))\n",
    "\n",
    "verify = np.matmul(qr.Q, qr.R)\n",
    "print(\"QR:\\n{}\".format(verify))\n",
    "print(\n",
    "    \"Approximately A within floating point tolerance?: {}\".format(\n",
    "        np.allclose(verify, A)\n",
    "    )\n",
    ")"
   ]
  },
  {
   "cell_type": "markdown",
   "metadata": {},
   "source": [
    "## Section 1.3.2 Least Squares\n",
    "\n",
    "Let $A\\in\\mathbb{R}^{n\\times m}$ be an $n\\times m$ matrix and $\\mathbf{b}\\in\\mathbb{R}^n$ be a vector. The least squares problem is the problem of approximating $\\mathbf{b}$ via some $\\mathbf{x}\\in\\mathbf{m}$ such that $A\\mathbf{x}\\approx\\mathbf{b}$\n",
    "\n",
    "It is reasonable to assume to assume that $A$ has linearly independent columns, as if it doesnt, we can solve a reduced form of $A$ and obtain the same solution. If $n=m$ then we can simply take the matrix inverse to solve the solution. But if $n>m$ (overdetermined), we cannot take an inverse. Instead we view the problem as the **least squares problem**:\n",
    "$$\\min_{\\mathbf{x}\\in\\mathbb{R}^{m}}\\norm{A\\mathbf{x}-\\mathbf{b}}$$\n",
    "\n",
    "We begin by projecting $\\mathbf{b}$ onto the column space of $A$. One might be tempted to use the algorithm presented in the Best Approximation Theorem, however it yields significant numerical issues when applied to computational tasks.\n",
    "\n",
    "Instead we can find the QR Decomposition of $A$ and then find the projection matrix $\\mathscr{P}_{\\text{col}(A)} = QQ^T$. We then apply the projection to $\\mathbf{b}$ to obtain $\\mathbf{b}^\\ast=QQ^T\\mathbf{b}$.\n",
    "\n",
    "This guarantees the ability to solve the equation $A\\mathbf{x}^\\ast=QQ^T\\mathbf{b}$, where $\\mathbf{x}^\\ast$ is the least squares solution.\n",
    "\n",
    "But, we already know $A=QR$, so we can rewrite this as $QR\\mathbf{x}^\\ast=QQ^T\\mathbf{b}$.\n",
    "\n",
    "The $Q$'s can then \"cancel\" by multiplying by $Q^T$ on the left (because $Q^TQ=I_{m\\times m}$)\n",
    "\n",
    "This leaves us with $R\\mathbf{x}^\\ast=Q^T\\mathbf{b}$\n",
    "\n",
    "Because $R$ is upper triangular, solving is extremely straightforward. It can be done with back-substitution.\n",
    "\n",
    "An example implementation is shown below along with `numpy`'s built in solution."
   ]
  },
  {
   "cell_type": "code",
   "execution_count": 51,
   "metadata": {},
   "outputs": [
    {
     "name": "stdout",
     "output_type": "stream",
     "text": [
      "Approximating x for Ax=b where A=\n",
      "[[ 3 -6]\n",
      " [ 4 -8]\n",
      " [ 0  1]]\n",
      "and b=\n",
      "[-1  7  2]\n",
      "My Implementation:\tx = [5. 2.]\n",
      "Numpy Implementation:\tx = [5. 2.]\n",
      "Are they the same?: Yes\n"
     ]
    }
   ],
   "source": [
    "def lst_sq(A, b):\n",
    "    qr = numpy.linalg.qr(A)\n",
    "    # The @ symbol is shorthand for np.matmul\n",
    "    b_approx = np.transpose(qr.Q) @ b\n",
    "    R = qr.R\n",
    "    size = R.shape[0]\n",
    "    x = np.zeros(size)\n",
    "    for i in range(1, size + 1):\n",
    "        b_i = b_approx[size - i]\n",
    "        R_ii = R[size - i, size - i]\n",
    "        prev = 0\n",
    "        for j in range(1, i):\n",
    "            prev += R[size - i, size - j] * x[size - j]\n",
    "        x_i = (b_i - prev) / R_ii\n",
    "        x[size - i] = x_i\n",
    "    return x\n",
    "\n",
    "\n",
    "A = np.array([[3, -6], [4, -8], [0, 1]])\n",
    "b = np.array([-1, 7, 2])\n",
    "print(\"Approximating x for Ax=b where A=\\n{}\\nand b=\\n{}\".format(A, b))\n",
    "custom_implementation = lst_sq(A, b)\n",
    "numpy_implementation = np.linalg.lstsq(A, b, rcond=None)[0]\n",
    "print(\"My Implementation:\\tx = {}\".format(custom_implementation))\n",
    "print(\"Numpy Implementation:\\tx = {}\".format(numpy_implementation))\n",
    "print(\n",
    "    \"Are they the same?: {}\".format(\n",
    "        \"Yes\" if np.allclose(custom_implementation, numpy_implementation) else \"No\"\n",
    "    )\n",
    ")"
   ]
  },
  {
   "cell_type": "markdown",
   "metadata": {},
   "source": [
    "## Section 1.3.3 Linear Regression\n",
    "\n",
    "Given input data points $\\left\\{(\\mathbf{x}_i,y_i)\\right\\}_{i=1}^{n}$ with each $\\mathbf{x}_i=(x_{i1},\\dots,x_{id})^T$, we seek an affine function to fit the data.\n",
    "\n",
    "We can do so by finding coefficients $\\beta_j$ that minimize the sum of errors between the predicted and actual \"$y$\" values ($y$ is a function of $x$ in this case).\n",
    "\n",
    "This can be described by the matrix equation $A\\mathbf{\\beta}\\approx\\mathbf{y}$ where $\\mathbf{y}$ is a column vector of the $y_i$'s, $\\mathbf{\\beta}$ is a column vector of the coefficients $\\beta_j$, and\n",
    "$$\n",
    "A=\\begin{pmatrix}\n",
    "1 & \\mathbf{x}_1^T\\\\\n",
    "1 & \\mathbf{x}_2^T\\\\\n",
    "\\vdots & \\vdots\\\\\n",
    "1 & \\mathbf{x}_n^T\\\\\n",
    "\\end{pmatrix}\n",
    "$$\n",
    "\n",
    "This is just the least squares problem discussed above, as we are attempting to approximate $\\mathbf{y}$. So we can directly apply that procedure.\n",
    "\n",
    "Here is an example using `numpy`'s `np.linalg.lstsq()` function to do least squares and obtain linear regression."
   ]
  },
  {
   "cell_type": "code",
   "execution_count": 70,
   "metadata": {},
   "outputs": [
    {
     "name": "stdout",
     "output_type": "stream",
     "text": [
      "f(x) = 0.5929533625132145 + 1.0711143734023607x\n"
     ]
    },
    {
     "data": {
      "text/plain": [
       "<matplotlib.legend.Legend at 0x7f4695aa7d90>"
      ]
     },
     "execution_count": 70,
     "metadata": {},
     "output_type": "execute_result"
    },
    {
     "data": {
      "image/png": "[encoded data removed]",
      "text/plain": [
       "<Figure size 640x480 with 1 Axes>"
      ]
     },
     "metadata": {},
     "output_type": "display_data"
    }
   ],
   "source": [
    "# Data points\n",
    "x = np.linspace(0, 10, 11)\n",
    "y = x + 2 * np.random.rand(x.shape[0])\n",
    "\n",
    "# Graph the data points\n",
    "fig = pyplt.figure()\n",
    "\n",
    "ax = fig.add_subplot()\n",
    "\n",
    "ax.plot(x, y, \"ob\", label=\"Random Data\")\n",
    "\n",
    "# Do linear regression\n",
    "ones = np.ones((1, x.shape[0])).T\n",
    "vx = np.atleast_2d(x).T\n",
    "A = np.hstack((ones, vx))\n",
    "soln = np.linalg.lstsq(A, y, rcond=None)[0]\n",
    "\n",
    "print(\"f(x) = {} + {}x\".format(soln[0], soln[1]))\n",
    "\n",
    "# Graph line\n",
    "y_approx = soln[0] + soln[1] * x\n",
    "ax.plot(x, y_approx, \"-r\", label=\"Linear Regression\")\n",
    "\n",
    "ax.legend()"
   ]
  }
 ],
 "metadata": {
  "kernelspec": {
   "display_name": "mat422",
   "language": "python",
   "name": "python3"
  },
  "language_info": {
   "codemirror_mode": {
    "name": "ipython",
    "version": 3
   },
   "file_extension": ".py",
   "mimetype": "text/x-python",
   "name": "python",
   "nbconvert_exporter": "python",
   "pygments_lexer": "ipython3",
   "version": "3.10.12"
  },
  "orig_nbformat": 4
 },
 "nbformat": 4,
 "nbformat_minor": 2
}
