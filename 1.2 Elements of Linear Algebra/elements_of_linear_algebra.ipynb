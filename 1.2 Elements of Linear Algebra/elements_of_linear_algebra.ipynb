{
 "cells": [
  {
   "cell_type": "markdown",
   "metadata": {},
   "source": [
    "# Elements of Linear Algebra\n",
    "\n",
    "\n",
    "\n",
    "This section covers the basics of linear algebra with respect to the vector space $\\mathbb{R}^n$\n"
   ]
  }
 ],
 "metadata": {
  "kernelspec": {
   "display_name": "mat422",
   "language": "python",
   "name": "python3"
  },
  "language_info": {
   "name": "python",
   "version": "3.10.12"
  },
  "orig_nbformat": 4
 },
 "nbformat": 4,
 "nbformat_minor": 2
}
