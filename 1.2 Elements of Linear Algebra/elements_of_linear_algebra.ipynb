{
 "cells": [
  {
   "cell_type": "markdown",
   "metadata": {},
   "source": [
    "# 1.2 Elements of Linear Algebra\n",
    "\n",
    "<a target=\"_blank\" href=\"https://colab.research.google.com/github/SaajanM/mat422-homework/blob/main/1.2%20Elements%20of%20Linear%20Algebra/elements_of_linear_algebra.ipynb\">\n",
    "  <img src=\"https://colab.research.google.com/assets/colab-badge.svg\" alt=\"Open In Colab\"/>\n",
    "</a>\n",
    "\n",
    "This section covers the basics of linear algebra with respect to the vector space $\\mathbb{R}^n$"
   ]
  },
  {
   "cell_type": "markdown",
   "metadata": {},
   "source": [
    "## Section 1.2.0 Vector Spaces\n",
    "\n",
    "This is not directly included in the notes, however I believe it is worthwile to mention.\n",
    "\n",
    "Due to the complexity of the topic, we restrict our discussion of vector spaces to only cover spaces over the field of real numbers $\\mathbb{R}$. But it is entirely possible to replace $\\mathbb{R}$ with some other field. However, as this is a data science class, this is usually unnecessary.\n",
    "\n",
    "For a definition of a field see: [Field_(mathematics)](https://en.wikipedia.org/wiki/Field_(mathematics))\n",
    "\n",
    "**Defintion:** A set $V$ paired with operations $+$ (called vector addition) and $\\cdot$ (scalar multiplication - usually implicitly written) is called a **Vector Space** if the following properties hold: \n",
    "- For $\\mathbf{u},\\mathbf{v},\\mathbf{w}\\in V$ it holds that $\\mathbf{u}+(\\mathbf{v}+\\mathbf{w}) = (\\mathbf{u}+\\mathbf{v})+\\mathbf{w}$ (Associativity of Vector Addition)\n",
    "- For $\\mathbf{u},\\mathbf{v}\\in V$ it holds that $\\mathbf{u}+\\mathbf{v} = \\mathbf{v}+\\mathbf{u}$ (Commutativity of Vector Addition)\n",
    "- There exists an element $\\mathbf{0}\\in V$ called the **zero vector** such that $\\mathbf{v}+\\mathbf{0} = \\mathbf{v}$ for all $\\mathbf{v}\\in V$ (Additive Identity)\n",
    "- For each $\\mathbf{v}\\in V$ there exists an element $-\\mathbf{v}\\in V$ such that $\\mathbf{v} + (-\\mathbf{v}) = \\mathbf{0}$ (Additive Inverse)\n",
    "- For each $a,b\\in\\mathbb{R}$ and for each $\\mathbf{v}\\in V$ it holds that $(ab)\\mathbf{v} = a(b\\mathbf{v})$ (Scalar and Field Multiplicative Compatability)\n",
    "- There exists a vector $\\mathbf{1}\\in V$ so that for all $\\mathbf{v}\\in V$ it holds that $\\mathbf{1}\\mathbf{v} = \\mathbf{v} (Multiplicative Identity)\n",
    "- For all $a,b\\in\\mathbb{R}$ and $\\mathbf{v}\\in V$ it holds that $(a+b)\\mathbf{v} = a\\mathbf{v} + b\\mathbf{v}$ (Distribution of Multiplication over Field Addition)\n",
    "- For all $\\mathbf{u},\\mathbf{v}\\in V$ and $a\\in \\mathbb{R}$ it holds that $a(\\mathbf{u} + \\mathbf{v}) = a\\mathbf{u} + a\\mathbf{v}$ (Distribution of Multiplication over Vector Addition)"
   ]
  }
 ],
 "metadata": {
  "kernelspec": {
   "display_name": "mat422",
   "language": "python",
   "name": "python3"
  },
  "language_info": {
   "name": "python",
   "version": "3.10.12"
  },
  "orig_nbformat": 4
 },
 "nbformat": 4,
 "nbformat_minor": 2
}
